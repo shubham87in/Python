{
 "cells": [
  {
   "cell_type": "code",
   "execution_count": 1,
   "metadata": {},
   "outputs": [
    {
     "data": {
      "text/plain": [
       "18"
      ]
     },
     "execution_count": 1,
     "metadata": {},
     "output_type": "execute_result"
    }
   ],
   "source": [
    "from random import randint\n",
    "\n",
    "rand_num = randint(1,100)\n",
    "rand_num"
   ]
  },
  {
   "cell_type": "code",
   "execution_count": 5,
   "metadata": {},
   "outputs": [
    {
     "name": "stdout",
     "output_type": "stream",
     "text": [
      "Guess the number:56\n",
      "COLD\n",
      "Guess the number:67\n",
      "WARM\n",
      "Guess the number:75\n",
      "WARM\n",
      "Guess the number:76\n",
      "WARM\n",
      "Guess the number:77\n",
      "WARM\n",
      "Guess the number:78\n",
      "WARM\n",
      "Guess the number:79\n",
      "You have guessed correctly. It took 7 chances to guess\n"
     ]
    }
   ],
   "source": [
    "from random import randint\n",
    "\n",
    "rand_num = randint(1,100)\n",
    "count = 0\n",
    "mylist = []\n",
    "mylist.append(rand_num)\n",
    "\n",
    "while rand_num > 0:\n",
    "    count += 1\n",
    "    user_input = input('Guess the number:')\n",
    "    mylist.append(int(user_input))\n",
    "    if count == 1:\n",
    "        if rand_num == int(user_input):\n",
    "            print(\"You have guessed correctly. It took {} chances to guess\".format(count))\n",
    "            break\n",
    "        elif abs(rand_num - mylist[count] <= 10):\n",
    "            print(\"WARM\")\n",
    "        elif abs(rand_num - mylist[count] >= 10):\n",
    "            print(\"COLD\") \n",
    "    else:\n",
    "        if rand_num == int(user_input):\n",
    "            print(\"You have guessed correctly. It took {} chances to guess\".format(count))\n",
    "            break\n",
    "        elif abs(mylist[0] - mylist[count]) <= abs(mylist[0] - mylist[count - 1]):\n",
    "            print(\"WARM\")\n",
    "        elif abs(mylist[0] - mylist[count]) > abs(mylist[0] - mylist[count - 1]):\n",
    "            print(\"COLD\")\n",
    "        \n",
    "        \n",
    "            \n",
    "        \n",
    "    \n",
    "    \n",
    "\n"
   ]
  }
 ],
 "metadata": {
  "kernelspec": {
   "display_name": "Python 3",
   "language": "python",
   "name": "python3"
  },
  "language_info": {
   "codemirror_mode": {
    "name": "ipython",
    "version": 3
   },
   "file_extension": ".py",
   "mimetype": "text/x-python",
   "name": "python",
   "nbconvert_exporter": "python",
   "pygments_lexer": "ipython3",
   "version": "3.6.5"
  }
 },
 "nbformat": 4,
 "nbformat_minor": 2
}
